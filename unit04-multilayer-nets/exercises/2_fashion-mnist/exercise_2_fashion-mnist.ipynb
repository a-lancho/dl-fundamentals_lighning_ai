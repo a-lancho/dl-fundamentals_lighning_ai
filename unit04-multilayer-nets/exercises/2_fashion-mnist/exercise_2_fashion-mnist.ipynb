{
 "cells": [
  {
   "cell_type": "markdown",
   "id": "d71bce70-9dc3-448b-9f9a-8896e83b6d09",
   "metadata": {},
   "source": [
    "# Implementing a Multilayer Perceptron (MNIST)"
   ]
  },
  {
   "cell_type": "markdown",
   "id": "e5b48fc7-4f46-4d5a-8558-cd06892aaa27",
   "metadata": {},
   "source": [
    "## 1) Installing Libraries"
   ]
  },
  {
   "cell_type": "code",
   "execution_count": 1,
   "id": "be1f5a9a-b3ee-424b-ab02-4371f49bd786",
   "metadata": {},
   "outputs": [],
   "source": [
    "# !conda install numpy pandas matplotlib --yes"
   ]
  },
  {
   "cell_type": "code",
   "execution_count": 2,
   "id": "1ea7b3b8-9092-4b37-8b7f-57362be611ad",
   "metadata": {},
   "outputs": [],
   "source": [
    "# !pip install torch torchvision torchaudio"
   ]
  },
  {
   "cell_type": "code",
   "execution_count": 3,
   "id": "79dd2077-ba5c-4ab5-95fc-6ee4d8a9f811",
   "metadata": {},
   "outputs": [],
   "source": [
    "# !conda install watermark"
   ]
  },
  {
   "cell_type": "code",
   "execution_count": 1,
   "id": "bc4fa295-5c62-4888-bcf8-d07d6a7afc47",
   "metadata": {},
   "outputs": [
    {
     "name": "stdout",
     "output_type": "stream",
     "text": [
      "Python implementation: CPython\n",
      "Python version       : 3.10.9\n",
      "IPython version      : 8.10.0\n",
      "\n",
      "numpy     : 1.23.5\n",
      "pandas    : 1.5.3\n",
      "matplotlib: 3.7.0\n",
      "torch     : 2.0.1\n",
      "\n"
     ]
    }
   ],
   "source": [
    "%load_ext watermark\n",
    "%watermark -v -p numpy,pandas,matplotlib,torch"
   ]
  },
  {
   "cell_type": "markdown",
   "id": "b9549676-2fa5-41a7-bbb9-ce03f5797c34",
   "metadata": {},
   "source": [
    "## 2) Loading the dataset"
   ]
  },
  {
   "cell_type": "markdown",
   "id": "e002ad95-a1f7-4c33-826a-4a45944f2687",
   "metadata": {},
   "source": [
    "- MNIST website: http://yann.lecun.com/exdb/mnist/"
   ]
  },
  {
   "cell_type": "code",
   "execution_count": 5,
   "id": "38af3928",
   "metadata": {},
   "outputs": [
    {
     "name": "stdout",
     "output_type": "stream",
     "text": [
      "Collecting GitPython\n",
      "  Downloading GitPython-3.1.32-py3-none-any.whl (188 kB)\n",
      "\u001b[2K     \u001b[90m━━━━━━━━━━━━━━━━━━━━━━━━━━━━━━━━━━━━━━━\u001b[0m \u001b[32m188.5/188.5 kB\u001b[0m \u001b[31m4.4 MB/s\u001b[0m eta \u001b[36m0:00:00\u001b[0m00:01\u001b[0m\n",
      "\u001b[?25hCollecting gitdb<5,>=4.0.1\n",
      "  Downloading gitdb-4.0.10-py3-none-any.whl (62 kB)\n",
      "\u001b[2K     \u001b[90m━━━━━━━━━━━━━━━━━━━━━━━━━━━━━━━━━━━━━━━━\u001b[0m \u001b[32m62.7/62.7 kB\u001b[0m \u001b[31m7.6 MB/s\u001b[0m eta \u001b[36m0:00:00\u001b[0m\n",
      "\u001b[?25hCollecting smmap<6,>=3.0.1\n",
      "  Downloading smmap-5.0.0-py3-none-any.whl (24 kB)\n",
      "Installing collected packages: smmap, gitdb, GitPython\n",
      "Successfully installed GitPython-3.1.32 gitdb-4.0.10 smmap-5.0.0\n"
     ]
    }
   ],
   "source": [
    "# !pip install GitPython\n",
    "\n",
    "import os\n",
    "from git import Repo\n",
    "\n",
    "if not os.path.exists(\"fashion-mnist\"):\n",
    "    Repo.clone_from(\"https://github.com/zalandoresearch/fashion-mnist\", \"fashion-mnist\")"
   ]
  },
  {
   "cell_type": "code",
   "execution_count": 2,
   "id": "f609024c-3eae-4ad5-8cb8-b95b403b7606",
   "metadata": {},
   "outputs": [],
   "source": [
    "from torch.utils.data import DataLoader\n",
    "from torchvision import datasets, transforms\n",
    "\n",
    "\n",
    "def load_mnist(path, kind='train'):\n",
    "    import os\n",
    "    import gzip\n",
    "    import numpy as np\n",
    "\n",
    "    \"\"\"Load MNIST data from `path`\"\"\"\n",
    "    labels_path = os.path.join(path,\n",
    "                               '%s-labels-idx1-ubyte.gz'\n",
    "                               % kind)\n",
    "    images_path = os.path.join(path,\n",
    "                               '%s-images-idx3-ubyte.gz'\n",
    "                               % kind)\n",
    "\n",
    "    with gzip.open(labels_path, 'rb') as lbpath:\n",
    "        labels = np.frombuffer(lbpath.read(), dtype=np.uint8,\n",
    "                               offset=8)\n",
    "\n",
    "    with gzip.open(images_path, 'rb') as imgpath:\n",
    "        images = np.frombuffer(imgpath.read(), dtype=np.uint8,\n",
    "                               offset=16).reshape(len(labels), 784)\n",
    "\n",
    "    return images, labels"
   ]
  },
  {
   "cell_type": "code",
   "execution_count": 19,
   "id": "53652f7f-1327-4992-a78a-345921eeb854",
   "metadata": {},
   "outputs": [],
   "source": [
    "from torch.utils.data import DataLoader, Dataset\n",
    "\n",
    "\n",
    "class MyDataset(Dataset):\n",
    "    def __init__(self, data_dir,kind, transform=None):\n",
    "\n",
    "        self.transform = transform\n",
    "        # ...\n",
    "        self.images, self.labels = load_mnist(data_dir, kind=kind)\n",
    "\n",
    "    def __getitem__(self, index):\n",
    "        # ...\n",
    "        img = self.images[index]\n",
    "        img = torch.tensor(img).to(torch.float32)\n",
    "        img = img/255.\n",
    "        # ...\n",
    "        label = self.labels[index]\n",
    "\n",
    "        if self.transform is not None:\n",
    "            img = self.transform(img)\n",
    "\n",
    "        # ...\n",
    "        return img, label\n",
    "\n",
    "    def __len__(self):\n",
    "        return self.labels.shape[0]\n",
    "\n",
    "train_dataset = MyDataset(data_dir=\"fashion-mnist/data/fashion\", kind=\"train\")\n",
    "test_dataset = MyDataset(data_dir=\"fashion-mnist/data/fashion\", kind=\"t10k\")"
   ]
  },
  {
   "cell_type": "code",
   "execution_count": 20,
   "id": "6661307a-6220-48d5-b965-4cd36e29e54c",
   "metadata": {},
   "outputs": [
    {
     "data": {
      "text/plain": [
       "60000"
      ]
     },
     "execution_count": 20,
     "metadata": {},
     "output_type": "execute_result"
    }
   ],
   "source": [
    "len(train_dataset)"
   ]
  },
  {
   "cell_type": "code",
   "execution_count": 21,
   "id": "78adc94e-5418-4aac-9a82-9a9cbf8fc688",
   "metadata": {},
   "outputs": [
    {
     "data": {
      "text/plain": [
       "10000"
      ]
     },
     "execution_count": 21,
     "metadata": {},
     "output_type": "execute_result"
    }
   ],
   "source": [
    "len(test_dataset)"
   ]
  },
  {
   "cell_type": "markdown",
   "id": "765adcf0-9147-434b-917a-f6d736a7117e",
   "metadata": {},
   "source": [
    "### Create a validation set"
   ]
  },
  {
   "cell_type": "code",
   "execution_count": 22,
   "id": "b39a42a2-cd46-46cf-ba93-d3f2f232f29c",
   "metadata": {},
   "outputs": [],
   "source": [
    "import torch\n",
    "from torch.utils.data.dataset import random_split\n",
    "\n",
    "torch.manual_seed(1)\n",
    "train_dataset, val_dataset = random_split(train_dataset, lengths=[55000, 5000])"
   ]
  },
  {
   "cell_type": "code",
   "execution_count": 23,
   "id": "b30e4a70-55b3-4fb0-b28d-b0fddd193fae",
   "metadata": {},
   "outputs": [],
   "source": [
    "train_loader = DataLoader(\n",
    "    dataset=train_dataset,\n",
    "    batch_size=64,\n",
    "    shuffle=True,\n",
    ")\n",
    "\n",
    "val_loader = DataLoader(\n",
    "    dataset=val_dataset,\n",
    "    batch_size=64,\n",
    "    shuffle=False,\n",
    ")\n",
    "\n",
    "test_loader = DataLoader(\n",
    "    dataset=test_dataset,\n",
    "    batch_size=64,\n",
    "    shuffle=False,\n",
    ")"
   ]
  },
  {
   "cell_type": "markdown",
   "id": "db50db02-3696-4f86-b149-74baabeec6c4",
   "metadata": {},
   "source": [
    "## 3) Implementing the model"
   ]
  },
  {
   "cell_type": "code",
   "execution_count": 24,
   "id": "971389a7-5424-4141-a3ee-9399eebbbb6a",
   "metadata": {},
   "outputs": [],
   "source": [
    "import torch\n",
    "\n",
    "class PyTorchMLP(torch.nn.Module):\n",
    "    def __init__(self, num_features, num_classes):\n",
    "        super().__init__()\n",
    "\n",
    "        self.all_layers = torch.nn.Sequential(\n",
    "            # 1st hidden layer\n",
    "            torch.nn.Linear(num_features, 50),\n",
    "            torch.nn.ReLU(),\n",
    "            # 2nd hidden layer\n",
    "            torch.nn.Linear(50, 25),\n",
    "            torch.nn.ReLU(),\n",
    "            # output layer\n",
    "            torch.nn.Linear(25, num_classes),\n",
    "        )\n",
    "\n",
    "    def forward(self, x):\n",
    "        x = torch.flatten(x, start_dim=1)\n",
    "        logits = self.all_layers(x)\n",
    "        return logits"
   ]
  },
  {
   "cell_type": "markdown",
   "id": "46bc16a0-ec59-4c54-a209-0a5e22406287",
   "metadata": {},
   "source": [
    "## 4) The training loop"
   ]
  },
  {
   "cell_type": "code",
   "execution_count": 25,
   "id": "8de213fc-48b0-4f7c-af9e-8e2da068e351",
   "metadata": {},
   "outputs": [],
   "source": [
    "def compute_accuracy(model, dataloader):\n",
    "\n",
    "    model = model.eval()\n",
    "\n",
    "    correct = 0.0\n",
    "    total_examples = 0\n",
    "\n",
    "    for idx, (features, labels) in enumerate(dataloader):\n",
    "\n",
    "        with torch.no_grad():\n",
    "            logits = model(features)\n",
    "\n",
    "        predictions = torch.argmax(logits, dim=1)\n",
    "\n",
    "        compare = labels == predictions\n",
    "        correct += torch.sum(compare)\n",
    "        total_examples += len(compare)\n",
    "\n",
    "    return correct / total_examples"
   ]
  },
  {
   "cell_type": "code",
   "execution_count": 26,
   "id": "3dcaa2b1-4019-4128-9ff5-6a966c3abdf2",
   "metadata": {},
   "outputs": [
    {
     "name": "stdout",
     "output_type": "stream",
     "text": [
      "Epoch: 001/030 | Batch 000/860 | Train Loss: 2.29\n",
      "Epoch: 001/030 | Batch 250/860 | Train Loss: 1.90\n",
      "Epoch: 001/030 | Batch 500/860 | Train Loss: 1.26\n",
      "Epoch: 001/030 | Batch 750/860 | Train Loss: 0.83\n",
      "Train Acc 68.13% | Val Acc 68.92%\n",
      "Epoch: 002/030 | Batch 000/860 | Train Loss: 0.90\n",
      "Epoch: 002/030 | Batch 250/860 | Train Loss: 0.93\n",
      "Epoch: 002/030 | Batch 500/860 | Train Loss: 0.77\n",
      "Epoch: 002/030 | Batch 750/860 | Train Loss: 0.75\n",
      "Train Acc 76.77% | Val Acc 76.88%\n",
      "Epoch: 003/030 | Batch 000/860 | Train Loss: 0.91\n",
      "Epoch: 003/030 | Batch 250/860 | Train Loss: 0.62\n",
      "Epoch: 003/030 | Batch 500/860 | Train Loss: 0.58\n",
      "Epoch: 003/030 | Batch 750/860 | Train Loss: 0.43\n",
      "Train Acc 79.60% | Val Acc 80.12%\n",
      "Epoch: 004/030 | Batch 000/860 | Train Loss: 0.68\n",
      "Epoch: 004/030 | Batch 250/860 | Train Loss: 0.61\n",
      "Epoch: 004/030 | Batch 500/860 | Train Loss: 0.39\n",
      "Epoch: 004/030 | Batch 750/860 | Train Loss: 0.69\n",
      "Train Acc 80.65% | Val Acc 80.94%\n",
      "Epoch: 005/030 | Batch 000/860 | Train Loss: 0.68\n",
      "Epoch: 005/030 | Batch 250/860 | Train Loss: 0.47\n",
      "Epoch: 005/030 | Batch 500/860 | Train Loss: 0.40\n",
      "Epoch: 005/030 | Batch 750/860 | Train Loss: 0.51\n",
      "Train Acc 81.45% | Val Acc 81.66%\n",
      "Epoch: 006/030 | Batch 000/860 | Train Loss: 0.61\n",
      "Epoch: 006/030 | Batch 250/860 | Train Loss: 0.50\n",
      "Epoch: 006/030 | Batch 500/860 | Train Loss: 0.47\n",
      "Epoch: 006/030 | Batch 750/860 | Train Loss: 0.56\n",
      "Train Acc 83.29% | Val Acc 83.02%\n",
      "Epoch: 007/030 | Batch 000/860 | Train Loss: 0.42\n",
      "Epoch: 007/030 | Batch 250/860 | Train Loss: 0.39\n",
      "Epoch: 007/030 | Batch 500/860 | Train Loss: 0.48\n",
      "Epoch: 007/030 | Batch 750/860 | Train Loss: 0.64\n",
      "Train Acc 83.49% | Val Acc 83.20%\n",
      "Epoch: 008/030 | Batch 000/860 | Train Loss: 0.52\n",
      "Epoch: 008/030 | Batch 250/860 | Train Loss: 0.65\n",
      "Epoch: 008/030 | Batch 500/860 | Train Loss: 0.48\n",
      "Epoch: 008/030 | Batch 750/860 | Train Loss: 0.73\n",
      "Train Acc 83.99% | Val Acc 83.82%\n",
      "Epoch: 009/030 | Batch 000/860 | Train Loss: 0.41\n",
      "Epoch: 009/030 | Batch 250/860 | Train Loss: 0.37\n",
      "Epoch: 009/030 | Batch 500/860 | Train Loss: 0.29\n",
      "Epoch: 009/030 | Batch 750/860 | Train Loss: 0.56\n",
      "Train Acc 83.81% | Val Acc 84.08%\n",
      "Epoch: 010/030 | Batch 000/860 | Train Loss: 0.59\n",
      "Epoch: 010/030 | Batch 250/860 | Train Loss: 0.53\n",
      "Epoch: 010/030 | Batch 500/860 | Train Loss: 0.58\n",
      "Epoch: 010/030 | Batch 750/860 | Train Loss: 0.42\n",
      "Train Acc 84.65% | Val Acc 83.98%\n",
      "Epoch: 011/030 | Batch 000/860 | Train Loss: 0.35\n",
      "Epoch: 011/030 | Batch 250/860 | Train Loss: 0.32\n",
      "Epoch: 011/030 | Batch 500/860 | Train Loss: 0.52\n",
      "Epoch: 011/030 | Batch 750/860 | Train Loss: 0.43\n",
      "Train Acc 84.35% | Val Acc 84.08%\n",
      "Epoch: 012/030 | Batch 000/860 | Train Loss: 0.30\n",
      "Epoch: 012/030 | Batch 250/860 | Train Loss: 0.45\n",
      "Epoch: 012/030 | Batch 500/860 | Train Loss: 0.48\n",
      "Epoch: 012/030 | Batch 750/860 | Train Loss: 0.49\n",
      "Train Acc 84.23% | Val Acc 83.96%\n",
      "Epoch: 013/030 | Batch 000/860 | Train Loss: 0.48\n",
      "Epoch: 013/030 | Batch 250/860 | Train Loss: 0.49\n",
      "Epoch: 013/030 | Batch 500/860 | Train Loss: 0.41\n",
      "Epoch: 013/030 | Batch 750/860 | Train Loss: 0.42\n",
      "Train Acc 84.20% | Val Acc 83.46%\n",
      "Epoch: 014/030 | Batch 000/860 | Train Loss: 0.58\n",
      "Epoch: 014/030 | Batch 250/860 | Train Loss: 0.48\n",
      "Epoch: 014/030 | Batch 500/860 | Train Loss: 0.37\n",
      "Epoch: 014/030 | Batch 750/860 | Train Loss: 0.52\n",
      "Train Acc 85.13% | Val Acc 84.40%\n",
      "Epoch: 015/030 | Batch 000/860 | Train Loss: 0.31\n",
      "Epoch: 015/030 | Batch 250/860 | Train Loss: 0.51\n",
      "Epoch: 015/030 | Batch 500/860 | Train Loss: 0.31\n",
      "Epoch: 015/030 | Batch 750/860 | Train Loss: 0.36\n",
      "Train Acc 85.69% | Val Acc 85.02%\n",
      "Epoch: 016/030 | Batch 000/860 | Train Loss: 0.30\n",
      "Epoch: 016/030 | Batch 250/860 | Train Loss: 0.46\n",
      "Epoch: 016/030 | Batch 500/860 | Train Loss: 0.43\n",
      "Epoch: 016/030 | Batch 750/860 | Train Loss: 0.30\n",
      "Train Acc 84.77% | Val Acc 84.28%\n",
      "Epoch: 017/030 | Batch 000/860 | Train Loss: 0.40\n",
      "Epoch: 017/030 | Batch 250/860 | Train Loss: 0.41\n",
      "Epoch: 017/030 | Batch 500/860 | Train Loss: 0.32\n",
      "Epoch: 017/030 | Batch 750/860 | Train Loss: 0.39\n",
      "Train Acc 85.69% | Val Acc 85.04%\n",
      "Epoch: 018/030 | Batch 000/860 | Train Loss: 0.36\n",
      "Epoch: 018/030 | Batch 250/860 | Train Loss: 0.43\n",
      "Epoch: 018/030 | Batch 500/860 | Train Loss: 0.41\n",
      "Epoch: 018/030 | Batch 750/860 | Train Loss: 0.49\n",
      "Train Acc 85.44% | Val Acc 84.82%\n",
      "Epoch: 019/030 | Batch 000/860 | Train Loss: 0.54\n",
      "Epoch: 019/030 | Batch 250/860 | Train Loss: 0.38\n",
      "Epoch: 019/030 | Batch 500/860 | Train Loss: 0.53\n",
      "Epoch: 019/030 | Batch 750/860 | Train Loss: 0.35\n",
      "Train Acc 86.14% | Val Acc 85.44%\n",
      "Epoch: 020/030 | Batch 000/860 | Train Loss: 0.67\n",
      "Epoch: 020/030 | Batch 250/860 | Train Loss: 0.43\n",
      "Epoch: 020/030 | Batch 500/860 | Train Loss: 0.30\n",
      "Epoch: 020/030 | Batch 750/860 | Train Loss: 0.50\n",
      "Train Acc 86.65% | Val Acc 85.80%\n",
      "Epoch: 021/030 | Batch 000/860 | Train Loss: 0.38\n",
      "Epoch: 021/030 | Batch 250/860 | Train Loss: 0.32\n",
      "Epoch: 021/030 | Batch 500/860 | Train Loss: 0.65\n",
      "Epoch: 021/030 | Batch 750/860 | Train Loss: 0.32\n",
      "Train Acc 86.43% | Val Acc 85.56%\n",
      "Epoch: 022/030 | Batch 000/860 | Train Loss: 0.48\n",
      "Epoch: 022/030 | Batch 250/860 | Train Loss: 0.40\n",
      "Epoch: 022/030 | Batch 500/860 | Train Loss: 0.33\n",
      "Epoch: 022/030 | Batch 750/860 | Train Loss: 0.41\n",
      "Train Acc 87.04% | Val Acc 86.12%\n",
      "Epoch: 023/030 | Batch 000/860 | Train Loss: 0.26\n",
      "Epoch: 023/030 | Batch 250/860 | Train Loss: 0.43\n",
      "Epoch: 023/030 | Batch 500/860 | Train Loss: 0.34\n",
      "Epoch: 023/030 | Batch 750/860 | Train Loss: 0.34\n",
      "Train Acc 87.01% | Val Acc 85.98%\n",
      "Epoch: 024/030 | Batch 000/860 | Train Loss: 0.40\n",
      "Epoch: 024/030 | Batch 250/860 | Train Loss: 0.32\n",
      "Epoch: 024/030 | Batch 500/860 | Train Loss: 0.35\n",
      "Epoch: 024/030 | Batch 750/860 | Train Loss: 0.37\n",
      "Train Acc 87.26% | Val Acc 86.04%\n",
      "Epoch: 025/030 | Batch 000/860 | Train Loss: 0.38\n",
      "Epoch: 025/030 | Batch 250/860 | Train Loss: 0.49\n",
      "Epoch: 025/030 | Batch 500/860 | Train Loss: 0.37\n",
      "Epoch: 025/030 | Batch 750/860 | Train Loss: 0.54\n",
      "Train Acc 87.10% | Val Acc 86.30%\n",
      "Epoch: 026/030 | Batch 000/860 | Train Loss: 0.32\n",
      "Epoch: 026/030 | Batch 250/860 | Train Loss: 0.17\n",
      "Epoch: 026/030 | Batch 500/860 | Train Loss: 0.47\n",
      "Epoch: 026/030 | Batch 750/860 | Train Loss: 0.21\n",
      "Train Acc 85.55% | Val Acc 84.84%\n",
      "Epoch: 027/030 | Batch 000/860 | Train Loss: 0.33\n",
      "Epoch: 027/030 | Batch 250/860 | Train Loss: 0.26\n",
      "Epoch: 027/030 | Batch 500/860 | Train Loss: 0.40\n",
      "Epoch: 027/030 | Batch 750/860 | Train Loss: 0.26\n",
      "Train Acc 87.84% | Val Acc 86.70%\n",
      "Epoch: 028/030 | Batch 000/860 | Train Loss: 0.38\n",
      "Epoch: 028/030 | Batch 250/860 | Train Loss: 0.82\n",
      "Epoch: 028/030 | Batch 500/860 | Train Loss: 0.28\n",
      "Epoch: 028/030 | Batch 750/860 | Train Loss: 0.20\n",
      "Train Acc 87.57% | Val Acc 86.36%\n",
      "Epoch: 029/030 | Batch 000/860 | Train Loss: 0.53\n",
      "Epoch: 029/030 | Batch 250/860 | Train Loss: 0.27\n",
      "Epoch: 029/030 | Batch 500/860 | Train Loss: 0.39\n",
      "Epoch: 029/030 | Batch 750/860 | Train Loss: 0.44\n",
      "Train Acc 86.38% | Val Acc 85.20%\n",
      "Epoch: 030/030 | Batch 000/860 | Train Loss: 0.80\n",
      "Epoch: 030/030 | Batch 250/860 | Train Loss: 0.26\n",
      "Epoch: 030/030 | Batch 500/860 | Train Loss: 0.39\n",
      "Epoch: 030/030 | Batch 750/860 | Train Loss: 0.49\n",
      "Train Acc 87.67% | Val Acc 86.46%\n"
     ]
    }
   ],
   "source": [
    "import torch.nn.functional as F\n",
    "\n",
    "torch.manual_seed(1)\n",
    "model = PyTorchMLP(num_features=784, num_classes=10)\n",
    "\n",
    "optimizer = torch.optim.SGD(model.parameters(), lr=0.01)\n",
    "\n",
    "num_epochs = 30\n",
    "\n",
    "loss_list = []\n",
    "train_acc_list, val_acc_list = [], []\n",
    "for epoch in range(num_epochs):\n",
    "\n",
    "    model = model.train()\n",
    "    for batch_idx, (features, labels) in enumerate(train_loader):\n",
    "\n",
    "        logits = model(features)\n",
    "\n",
    "        loss = F.cross_entropy(logits, labels)\n",
    "\n",
    "        optimizer.zero_grad()\n",
    "        loss.backward()\n",
    "        optimizer.step()\n",
    "\n",
    "        if not batch_idx % 250:\n",
    "            ### LOGGING\n",
    "            print(\n",
    "                f\"Epoch: {epoch+1:03d}/{num_epochs:03d}\"\n",
    "                f\" | Batch {batch_idx:03d}/{len(train_loader):03d}\"\n",
    "                f\" | Train Loss: {loss:.2f}\"\n",
    "            )\n",
    "        loss_list.append(loss.item())\n",
    "\n",
    "    train_acc = compute_accuracy(model, train_loader)\n",
    "    val_acc = compute_accuracy(model, val_loader)\n",
    "    print(f\"Train Acc {train_acc*100:.2f}% | Val Acc {val_acc*100:.2f}%\")\n",
    "    train_acc_list.append(train_acc)\n",
    "    val_acc_list.append(val_acc)"
   ]
  },
  {
   "cell_type": "markdown",
   "id": "bb0d5821-7c8d-46b5-9e7d-02e72cac2acc",
   "metadata": {},
   "source": [
    "## 5) Evaluating the results"
   ]
  },
  {
   "cell_type": "code",
   "execution_count": 27,
   "id": "27538c8d-61bc-47b0-8289-b6aab4aa16ed",
   "metadata": {},
   "outputs": [
    {
     "name": "stdout",
     "output_type": "stream",
     "text": [
      "Train Acc 87.67%\n",
      "Val Acc 86.46%\n",
      "Test Acc 85.68%\n"
     ]
    }
   ],
   "source": [
    "train_acc = compute_accuracy(model, train_loader)\n",
    "val_acc = compute_accuracy(model, val_loader)\n",
    "test_acc = compute_accuracy(model, test_loader)\n",
    "\n",
    "print(f\"Train Acc {train_acc*100:.2f}%\")\n",
    "print(f\"Val Acc {val_acc*100:.2f}%\")\n",
    "print(f\"Test Acc {test_acc*100:.2f}%\")"
   ]
  },
  {
   "cell_type": "code",
   "execution_count": 28,
   "id": "0f1f8499-3191-4f78-b2d4-82daba9b9bc0",
   "metadata": {},
   "outputs": [
    {
     "data": {
      "image/png": "[encoded data removed]",
      "text/plain": [
       "<Figure size 640x480 with 2 Axes>"
      ]
     },
     "metadata": {},
     "output_type": "display_data"
    }
   ],
   "source": [
    "from helper_plotting import plot_training_loss\n",
    "\n",
    "plot_training_loss(minibatch_loss_list=loss_list,\n",
    "                   num_epochs=num_epochs,\n",
    "                   iter_per_epoch=len(loss_list)//num_epochs)"
   ]
  },
  {
   "cell_type": "code",
   "execution_count": 29,
   "id": "bf9d4519-b7a2-4382-90d0-a0dce2ee608e",
   "metadata": {},
   "outputs": [
    {
     "data": {
      "image/png": "[encoded data removed]",
      "text/plain": [
       "<Figure size 640x480 with 1 Axes>"
      ]
     },
     "metadata": {},
     "output_type": "display_data"
    }
   ],
   "source": [
    "from helper_plotting import plot_accuracy\n",
    "\n",
    "plot_accuracy(train_acc_list=train_acc_list, valid_acc_list=val_acc_list)"
   ]
  },
  {
   "cell_type": "code",
   "execution_count": null,
   "id": "df70fafe",
   "metadata": {},
   "outputs": [],
   "source": []
  }
 ],
 "metadata": {
  "kernelspec": {
   "display_name": "Python 3 (ipykernel)",
   "language": "python",
   "name": "python3"
  },
  "language_info": {
   "codemirror_mode": {
    "name": "ipython",
    "version": 3
   },
   "file_extension": ".py",
   "mimetype": "text/x-python",
   "name": "python",
   "nbconvert_exporter": "python",
   "pygments_lexer": "ipython3",
   "version": "3.10.9"
  }
 },
 "nbformat": 4,
 "nbformat_minor": 5
}
